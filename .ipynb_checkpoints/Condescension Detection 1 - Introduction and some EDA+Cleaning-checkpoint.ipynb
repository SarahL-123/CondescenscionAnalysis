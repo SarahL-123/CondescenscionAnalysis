{
 "cells": [
  {
   "cell_type": "markdown",
   "metadata": {},
   "source": [
    "# Condescenscion Detection in Reddit Posts\n",
    "\n",
    "---\n",
    "\n",
    "# Executive Summary\n",
    "\n",
    "Condecenscion is defined as \"an attitude of patronizing superiority; disdain\". It is also insulting, and so we would like to create a model that can detect it automatically (to reduce the amount of work that a human has to do). I also tried to research condecenscion but wasn't able to find a lot, so another goal of this project is to try and quantify condescending behavior.\n",
    "\n",
    "The corpus of text I am using is a labelled set of 5000 Reddit post & reply pairs, from researchers Zijian Wang and Christopher Potts. The posts were sorted into 'condescending' and 'not condescending' by human readers.\n",
    "\n",
    "The first thing that I did after cleaning the data was to use a simple model to try and predict condecenscion. This was reasonably effective, and we were able to find some things:\n",
    "- The best way to predict if someone is condescending, is if the reply contains the word 'condescending' or an insulting word (e.g. f\\*\\*k)\n",
    "- Without looking at the reply, simple models like logistic regression have a hard time determining whether text is condescending or not.\n",
    "\n",
    "Based on these findings, I decided to use a pre-trained language model (BERT) to analyze the meanings/embeddings of the post and reply. It turns out that when someone is condescending, replies to them will have a noticeable change in the topic, so this is another good way to detect condecenscion (if there is a reply).\n",
    "\n",
    "In addition, we found that sentiments commonly associated with being condescending also show up a lot in **replies** to the condescending post, suggesting that if someone is condescending, the reply will be even more condescending.\n",
    "\n",
    "Finally, I tried to group condescending posts/replies into groups but it seems that there aren't any clear groupings.\n",
    "\n",
    "Based on the above, we were able to find more things about condescenscion.\n",
    "- If someone is condescending, this means it's more likely that the reply is also condescending. This means that condecenscion is a reply to other people being condescending (i.e. it's a vicious cycle)\n",
    "- There only seems to be one category of condescension (wasn't able to group it into different categories)\n",
    "\n",
    "Finally, I tried to use transfer learning + BERT to see if a model can detect condescending text without looking at the reply. This has around 70% AUC ROC which is better than the other models tried previously. However it still ends up with a good amount of false negatives.\n",
    "\n",
    "In conclusion, if we have access to the reply we can predict if someone is being condescending quite accurately. However without the reply (the more general case) it is harder. We were able to identify some features of condescending text such as that it is a vicious cycle and also certain words that are more condescending (such as \"lol\", \"sell\", and \"obvious\").\n",
    "\n",
    "---\n",
    "\n",
    "# Contents\n",
    "\n",
    "1. [Problem Statement](#problem_statement)\n",
    "2. [Data Source](#data_source)\n",
    "3. [EDA](#eda)\n",
    "4. [Word Clouds](#word_clouds)\n",
    "5. [Basic Model](#basic_model)\n",
    "\n",
    "\n",
    "\n",
    "---\n",
    "\n",
    "# Problem Statement <a id='problem_statement'></a>\n",
    "Condescenscion is a difficult thing to quantify. A general definition is \"an attitude of patronizing superiority; disdain\" (Oxford Languages). However, it's hard to pinpoint exactly which factors make someone's words condescending, and there isn't much research in this area too.\n",
    "\n",
    "Based on this, I would like to do 2 things:\n",
    "1) Try to identify common behaviors among condescending speech\n",
    "2) Create a model that can identify someone who is being condescending.\n",
    "\n",
    "To explain more about the model, I want to create a binary classification model that detects if someone is being condescending in Reddit posts. The performance is determined by the accuracy and AUC/ROC curve.\n",
    "\n",
    "The model will classify a post as either condescending or not, ideally with a probability attached to this classification. The exact type of model depends on what works best, although it could range from a simple logistic regression all the way to a neural network.\n",
    "\n",
    "I will judge the performance of the model using accuracy: this is because a balanced training set is provided in the data. However, I will also use the model on imbalanced data (to simulate actual Reddit posts), and for this I will use ROC AUC metric as well.\n",
    "\n",
    "### Why do we want to know this?\n",
    "It's difficult for traditional models to detect condescenscion (per the creators of the corpus) since it depends on the context. This means that moderators of these posts have to manually look through each post and decide themselves, which is time consuming and maybe subjective to individual biases.\n",
    "\n",
    "Therefore if a model is able to predict this, it will save a lot of time. Depending on how the model functions it may also be able to detect other 'bad' behavior such as being threatening or dismissive."
   ]
  },
  {
   "cell_type": "markdown",
   "metadata": {},
   "source": [
    "# Data Source <a id='data_source'></a>\n",
    " A corpus of condescending posts can be found [here](https://github.com/zijwang/talkdown). The corpus of text contains a Reddit post (the parent, and the post we want to classify), as well as a post responding to it (the child). This is scraped directly from Reddit although it is provided in a json format. The posts are also labelled as condescending vs not.\n",
    " \n",
    "The data is provided in 2 forms: a balanced train/test set as well as an imbalanced set. For now, I will just look at the balanced set since it's simpler to work with (no imbalanced classes).\n",
    "\n",
    "\n",
    "Risks and Assumptions:\n",
    "- Whether something is condescending depends on the reader. I will stick to the provided labels because the rating was collected using Amazon Mechanical Turk, which gets results from multiple people so it should be more accurate.\n",
    "- Source mentions that the data was initially collected by looking for a condescenscion related word. It is possible that there are many condescending posts out in the wild that do not fit this category. The model therefore wouldn't help to detect these (or at least, it won't work as well) so that could be a problem.\n",
    "- The data only contains posts that have a reply so if we use that, it won't work in all cases.\n",
    "- Per the creators of the corpus, the corpus is limited to posts in which a reply contains a quote of the parent post. Again this might skew the results but I don't know by how much."
   ]
  },
  {
   "cell_type": "markdown",
   "metadata": {},
   "source": [
    "### Proposed Methods\n",
    "- First, conduct EDA on the data to identify if there is anything that is particularly condescending. Maybe I can use feature engineering to add this in as an additional feature. This step will take the longest as most of the data comes in raw text form.\n",
    "    - This also includes trying to establish links between the parent post and the child post.\n",
    "    - Also research what condescenscion is, and how people express it, as that can help identify features.\n",
    "- Second, vectorize the words. This sort of assumes we are using a bag of words approach. As of right now I am not familiar with other methods of text classification so maybe this step isn't necessary.\n",
    "- Finally, try a model and interpret the results, to see what the model was looking for. Repeat steps 1 and 2 until the model is accurate enough."
   ]
  },
  {
   "cell_type": "markdown",
   "metadata": {},
   "source": [
    "## Other Stakeholders\n",
    "- Social media moderators who either want a program that can detect condescension automatically, or figure out how to couteract it\n",
    "- Social scientists studying condescension\n"
   ]
  },
  {
   "cell_type": "markdown",
   "metadata": {},
   "source": [
    "# EDA <a id='eda'></a>\n",
    "\n",
    "Here are some things I want to check out:\n",
    "- how long is each post on average?\n",
    "- What are some common condescending speech patterns?\n",
    "- How often does condescension appear in general?\n",
    "- Can I identify some simple things that are condescending?"
   ]
  },
  {
   "cell_type": "code",
   "execution_count": 1,
   "metadata": {},
   "outputs": [],
   "source": [
    "# import\n",
    "import pandas as pd\n",
    "import numpy as np\n",
    "import seaborn as sns\n",
    "import matplotlib.pyplot as plt\n",
    "import random"
   ]
  },
  {
   "cell_type": "code",
   "execution_count": 2,
   "metadata": {},
   "outputs": [],
   "source": [
    "# imports for the basic model at the bottom\n",
    "from sklearn.model_selection import train_test_split, GridSearchCV\n",
    "from sklearn.pipeline import FeatureUnion, Pipeline\n",
    "from nltk.stem import PorterStemmer, WordNetLemmatizer\n",
    "from sklearn.feature_extraction.text import ENGLISH_STOP_WORDS\n",
    "from sklearn.naive_bayes import MultinomialNB\n",
    "from sklearn.feature_extraction.text import TfidfVectorizer\n"
   ]
  },
  {
   "cell_type": "code",
   "execution_count": 3,
   "metadata": {
    "scrolled": true
   },
   "outputs": [
    {
     "data": {
      "text/html": [
       "<div>\n",
       "<style scoped>\n",
       "    .dataframe tbody tr th:only-of-type {\n",
       "        vertical-align: middle;\n",
       "    }\n",
       "\n",
       "    .dataframe tbody tr th {\n",
       "        vertical-align: top;\n",
       "    }\n",
       "\n",
       "    .dataframe thead th {\n",
       "        text-align: right;\n",
       "    }\n",
       "</style>\n",
       "<table border=\"1\" class=\"dataframe\">\n",
       "  <thead>\n",
       "    <tr style=\"text-align: right;\">\n",
       "      <th></th>\n",
       "      <th>quotedpost</th>\n",
       "      <th>quotedreply</th>\n",
       "      <th>label</th>\n",
       "      <th>post</th>\n",
       "      <th>reply</th>\n",
       "      <th>post_user</th>\n",
       "      <th>reply_user</th>\n",
       "      <th>start_offset</th>\n",
       "      <th>end_offset</th>\n",
       "      <th>reddit_post_id</th>\n",
       "      <th>reddit_reply_id</th>\n",
       "    </tr>\n",
       "  </thead>\n",
       "  <tbody>\n",
       "    <tr>\n",
       "      <th>0</th>\n",
       "      <td>Please educate yoyrself before you bring your ...</td>\n",
       "      <td>Not condescending at all, jeez.</td>\n",
       "      <td>True</td>\n",
       "      <td>Well a guy is saying Barra, who has those grea...</td>\n",
       "      <td>&gt; Please educate yoyrself before you bring you...</td>\n",
       "      <td>StalinHimself</td>\n",
       "      <td>Kel_Casus</td>\n",
       "      <td>135</td>\n",
       "      <td>208</td>\n",
       "      <td>dbl4vl9</td>\n",
       "      <td>dblfraj</td>\n",
       "    </tr>\n",
       "    <tr>\n",
       "      <th>1</th>\n",
       "      <td>There might be some small piece that's incorrect</td>\n",
       "      <td>You said that. Not me. Not James-Cizuz. You sa...</td>\n",
       "      <td>True</td>\n",
       "      <td>&gt; I think you're the one who has a reading com...</td>\n",
       "      <td>&gt; theories are constantly growing and evolving...</td>\n",
       "      <td>kishi</td>\n",
       "      <td>jids</td>\n",
       "      <td>365</td>\n",
       "      <td>413</td>\n",
       "      <td>c2dtpq9</td>\n",
       "      <td>c2dtywp</td>\n",
       "    </tr>\n",
       "    <tr>\n",
       "      <th>2</th>\n",
       "      <td>If I try and force down a breakfast I start ga...</td>\n",
       "      <td>Yes!\\n\\nPeople were so condescending about it ...</td>\n",
       "      <td>False</td>\n",
       "      <td>For me it's like temporarily having the flu. T...</td>\n",
       "      <td>&gt; If I try and force down a breakfast I start ...</td>\n",
       "      <td>amphetaminesfailure</td>\n",
       "      <td>CowGiraffe</td>\n",
       "      <td>331</td>\n",
       "      <td>383</td>\n",
       "      <td>cuv97mf</td>\n",
       "      <td>cuvnb27</td>\n",
       "    </tr>\n",
       "    <tr>\n",
       "      <th>3</th>\n",
       "      <td>Nonviolence leads to reform and progress. It's...</td>\n",
       "      <td>I don't believe you, you provide no examples, ...</td>\n",
       "      <td>True</td>\n",
       "      <td>Uh, no. Nonviolence leads to reform and progre...</td>\n",
       "      <td>&gt;Nonviolence leads to reform and progress. It'...</td>\n",
       "      <td>UmamiSalami</td>\n",
       "      <td>ArizonaIcedOutBoys</td>\n",
       "      <td>8</td>\n",
       "      <td>102</td>\n",
       "      <td>cmb6odf</td>\n",
       "      <td>cmbb0la</td>\n",
       "    </tr>\n",
       "    <tr>\n",
       "      <th>4</th>\n",
       "      <td>Have you actually read the bible ??</td>\n",
       "      <td>Is that where you learned how to be condescend...</td>\n",
       "      <td>True</td>\n",
       "      <td>&gt;Do you not understand how insensitive and rud...</td>\n",
       "      <td>&gt; Have you actually read the bible ??\\n\\nIs th...</td>\n",
       "      <td>lju1977</td>\n",
       "      <td>katapliktikos</td>\n",
       "      <td>58</td>\n",
       "      <td>93</td>\n",
       "      <td>cqq300a</td>\n",
       "      <td>cqq3289</td>\n",
       "    </tr>\n",
       "  </tbody>\n",
       "</table>\n",
       "</div>"
      ],
      "text/plain": [
       "                                          quotedpost  \\\n",
       "0  Please educate yoyrself before you bring your ...   \n",
       "1   There might be some small piece that's incorrect   \n",
       "2  If I try and force down a breakfast I start ga...   \n",
       "3  Nonviolence leads to reform and progress. It's...   \n",
       "4                Have you actually read the bible ??   \n",
       "\n",
       "                                         quotedreply  label  \\\n",
       "0                    Not condescending at all, jeez.   True   \n",
       "1  You said that. Not me. Not James-Cizuz. You sa...   True   \n",
       "2  Yes!\\n\\nPeople were so condescending about it ...  False   \n",
       "3  I don't believe you, you provide no examples, ...   True   \n",
       "4  Is that where you learned how to be condescend...   True   \n",
       "\n",
       "                                                post  \\\n",
       "0  Well a guy is saying Barra, who has those grea...   \n",
       "1  > I think you're the one who has a reading com...   \n",
       "2  For me it's like temporarily having the flu. T...   \n",
       "3  Uh, no. Nonviolence leads to reform and progre...   \n",
       "4  >Do you not understand how insensitive and rud...   \n",
       "\n",
       "                                               reply            post_user  \\\n",
       "0  > Please educate yoyrself before you bring you...        StalinHimself   \n",
       "1  > theories are constantly growing and evolving...                kishi   \n",
       "2  > If I try and force down a breakfast I start ...  amphetaminesfailure   \n",
       "3  >Nonviolence leads to reform and progress. It'...          UmamiSalami   \n",
       "4  > Have you actually read the bible ??\\n\\nIs th...              lju1977   \n",
       "\n",
       "           reply_user  start_offset  end_offset reddit_post_id reddit_reply_id  \n",
       "0           Kel_Casus           135         208        dbl4vl9         dblfraj  \n",
       "1                jids           365         413        c2dtpq9         c2dtywp  \n",
       "2          CowGiraffe           331         383        cuv97mf         cuvnb27  \n",
       "3  ArizonaIcedOutBoys             8         102        cmb6odf         cmbb0la  \n",
       "4       katapliktikos            58          93        cqq300a         cqq3289  "
      ]
     },
     "execution_count": 3,
     "metadata": {},
     "output_type": "execute_result"
    }
   ],
   "source": [
    "# read balanced data set\n",
    "cond_df = pd.read_json('./cond_data/balanced_train.jsonl', lines=True)\n",
    "cond_df.head()"
   ]
  },
  {
   "cell_type": "markdown",
   "metadata": {},
   "source": [
    "### Check that data is ok"
   ]
  },
  {
   "cell_type": "code",
   "execution_count": 4,
   "metadata": {},
   "outputs": [
    {
     "data": {
      "text/plain": [
       "quotedpost         object\n",
       "quotedreply        object\n",
       "label                bool\n",
       "post               object\n",
       "reply              object\n",
       "post_user          object\n",
       "reply_user         object\n",
       "start_offset        int64\n",
       "end_offset          int64\n",
       "reddit_post_id     object\n",
       "reddit_reply_id    object\n",
       "dtype: object"
      ]
     },
     "execution_count": 4,
     "metadata": {},
     "output_type": "execute_result"
    }
   ],
   "source": [
    "# Data types\n",
    "cond_df.dtypes"
   ]
  },
  {
   "cell_type": "markdown",
   "metadata": {},
   "source": [
    "Seems normal, it's text data so most of the columns are object."
   ]
  },
  {
   "cell_type": "code",
   "execution_count": 5,
   "metadata": {},
   "outputs": [
    {
     "data": {
      "text/plain": [
       "quotedpost         0\n",
       "quotedreply        0\n",
       "label              0\n",
       "post               0\n",
       "reply              0\n",
       "post_user          0\n",
       "reply_user         0\n",
       "start_offset       0\n",
       "end_offset         0\n",
       "reddit_post_id     0\n",
       "reddit_reply_id    0\n",
       "dtype: int64"
      ]
     },
     "execution_count": 5,
     "metadata": {},
     "output_type": "execute_result"
    }
   ],
   "source": [
    "# Missing data:\n",
    "cond_df.isna().sum()"
   ]
  },
  {
   "cell_type": "markdown",
   "metadata": {},
   "source": [
    "No missing data, this is good."
   ]
  },
  {
   "cell_type": "markdown",
   "metadata": {},
   "source": [
    "Figure out what each column means as it's a bit ambiguous. Print a few entries (I picked ones that weren't too long)."
   ]
  },
  {
   "cell_type": "code",
   "execution_count": 6,
   "metadata": {},
   "outputs": [
    {
     "name": "stdout",
     "output_type": "stream",
     "text": [
      "\n",
      "quotedpost\n",
      "Please educate yoyrself before you bring your opinions on this subreddit.\n",
      "\n",
      "quotedreply\n",
      "Not condescending at all, jeez.\n",
      "\n",
      "post\n",
      "Well a guy is saying Barra, who has those great credentials, sucks... It is just so rude an misinformed to say a guy like Barra sucks. Please educate yoyrself before you bring your opinions on this subreddit.\n",
      "\n",
      "reply\n",
      "> Please educate yoyrself before you bring your opinions on this subreddit.\n",
      "\n",
      "Not condescending at all, jeez.\n",
      "----------\n",
      "\n",
      "quotedpost\n",
      "If I try and force down a breakfast I start gagging.\n",
      "\n",
      "quotedreply\n",
      "Yes!\n",
      "\n",
      "People were so condescending about it when I got my first job out of college. It was 40 minutes away from home and I had to be there at 7:30. They would go on and on about how I'll \"get used to it\". But it has been a few years now and I'm not used to it (new job is much closer to home, and pretty relaxed about me getting there anytime before 8:30).\n",
      "\n",
      "I've gotten BETTER, sure. I generally wake up around 8 on weekends, whereas I used to never wake up that early. I do love mornings once I'm finally awake, and I like that I can run a bunch of errands and it only be 11AM. But still -- I think having to be at work at 9-10AM would be ideal. Just that extra hour of sleep makes all the difference for me. \n",
      "\n",
      "Waking up at 7AM = kill me.\n",
      "Waking up at 8AM = comes pretty naturally, and I'm okay with it.\n",
      "\n",
      "post\n",
      "For me it's like temporarily having the flu. The real flu, not how most people use it to describe every time they're throwing up or have diarrhea. \n",
      "\n",
      "Those first 1-2 hours I wake up my mind is cloudy, I can't think straight. I have headache. My whole body feels weak. I stumble, bump into walls, my hands shake. I have no appetite. If I try and force down a breakfast I start gagging. \n",
      "\n",
      "\n",
      "Nothing I do seems to be able to change that. \n",
      "\n",
      "Like I said, I've tried sleeping a full 8 hours and waking up at 6 am for months at a time....I still feel sick. \n",
      "\n",
      "\n",
      "\n",
      "\n",
      "reply\n",
      "> If I try and force down a breakfast I start gagging.\n",
      "\n",
      "Yes!\n",
      "\n",
      "People were so condescending about it when I got my first job out of college. It was 40 minutes away from home and I had to be there at 7:30. They would go on and on about how I'll \"get used to it\". But it has been a few years now and I'm not used to it (new job is much closer to home, and pretty relaxed about me getting there anytime before 8:30).\n",
      "\n",
      "I've gotten BETTER, sure. I generally wake up around 8 on weekends, whereas I used to never wake up that early. I do love mornings once I'm finally awake, and I like that I can run a bunch of errands and it only be 11AM. But still -- I think having to be at work at 9-10AM would be ideal. Just that extra hour of sleep makes all the difference for me. \n",
      "\n",
      "Waking up at 7AM = kill me.\n",
      "Waking up at 8AM = comes pretty naturally, and I'm okay with it.\n"
     ]
    }
   ],
   "source": [
    "# Figure out what each column means\n",
    "# I really should have used a function for this\n",
    "print(\"\\nquotedpost\")\n",
    "print(cond_df.iloc[0,0])\n",
    "\n",
    "print(\"\\nquotedreply\")\n",
    "print(cond_df.iloc[0,1])\n",
    "\n",
    "print(\"\\npost\")\n",
    "print(cond_df.iloc[0,3])\n",
    "\n",
    "print(\"\\nreply\")\n",
    "print(cond_df.iloc[0,4])\n",
    "\n",
    "print(\"-\"*10)\n",
    "\n",
    "print(\"\\nquotedpost\")\n",
    "print(cond_df.iloc[2,0])\n",
    "\n",
    "print(\"\\nquotedreply\")\n",
    "print(cond_df.iloc[2,1])\n",
    "\n",
    "print(\"\\npost\")\n",
    "print(cond_df.iloc[2,3])\n",
    "\n",
    "print(\"\\nreply\")\n",
    "print(cond_df.iloc[2,4])"
   ]
  },
  {
   "cell_type": "markdown",
   "metadata": {},
   "source": [
    "---\n",
    "\n",
    "By looking at the paper which the source came from, as well as the two entries above, we can identify what the columns mean.\n",
    "- post: the entire parent post (what we want to classify)\n",
    "- reply: the reply to the parent post (which we use to help classify the parent post)\n",
    "- quotedpost: part of the parent post that was quoted in the reply. The idea is that the reply accuses the parent post of being condescending by quoting them and this is the part that was quoted.\n",
    "- quotedreply: the part of the child/reply post that directly responds to the quoted post by saying they are condescending.\n",
    "\n",
    "In other words, the two 'quoted' columns are basically feature engineered columns from the 'post' and 'reply' columns."
   ]
  },
  {
   "cell_type": "markdown",
   "metadata": {},
   "source": [
    "# EDA\n",
    "I want to see if the word 'condescending' (or 'condescenscion'.etc) is related to being condescending. It seems reasonable that a condescending post will have someone replying 'don't be condescending'. This probably won't be perfect but I just want to find out."
   ]
  },
  {
   "cell_type": "code",
   "execution_count": 7,
   "metadata": {},
   "outputs": [],
   "source": [
    "import regex as re"
   ]
  },
  {
   "cell_type": "code",
   "execution_count": 8,
   "metadata": {},
   "outputs": [
    {
     "data": {
      "text/html": [
       "<div>\n",
       "<style scoped>\n",
       "    .dataframe tbody tr th:only-of-type {\n",
       "        vertical-align: middle;\n",
       "    }\n",
       "\n",
       "    .dataframe tbody tr th {\n",
       "        vertical-align: top;\n",
       "    }\n",
       "\n",
       "    .dataframe thead th {\n",
       "        text-align: right;\n",
       "    }\n",
       "</style>\n",
       "<table border=\"1\" class=\"dataframe\">\n",
       "  <thead>\n",
       "    <tr style=\"text-align: right;\">\n",
       "      <th></th>\n",
       "      <th>quotedpost</th>\n",
       "      <th>quotedreply</th>\n",
       "      <th>label</th>\n",
       "      <th>post</th>\n",
       "      <th>reply</th>\n",
       "      <th>post_user</th>\n",
       "      <th>reply_user</th>\n",
       "      <th>start_offset</th>\n",
       "      <th>end_offset</th>\n",
       "      <th>reddit_post_id</th>\n",
       "      <th>reddit_reply_id</th>\n",
       "      <th>has_cond</th>\n",
       "    </tr>\n",
       "  </thead>\n",
       "  <tbody>\n",
       "    <tr>\n",
       "      <th>0</th>\n",
       "      <td>Please educate yoyrself before you bring your ...</td>\n",
       "      <td>Not condescending at all, jeez.</td>\n",
       "      <td>True</td>\n",
       "      <td>Well a guy is saying Barra, who has those grea...</td>\n",
       "      <td>&gt; Please educate yoyrself before you bring you...</td>\n",
       "      <td>StalinHimself</td>\n",
       "      <td>Kel_Casus</td>\n",
       "      <td>135</td>\n",
       "      <td>208</td>\n",
       "      <td>dbl4vl9</td>\n",
       "      <td>dblfraj</td>\n",
       "      <td>1</td>\n",
       "    </tr>\n",
       "    <tr>\n",
       "      <th>1</th>\n",
       "      <td>There might be some small piece that's incorrect</td>\n",
       "      <td>You said that. Not me. Not James-Cizuz. You sa...</td>\n",
       "      <td>True</td>\n",
       "      <td>&gt; I think you're the one who has a reading com...</td>\n",
       "      <td>&gt; theories are constantly growing and evolving...</td>\n",
       "      <td>kishi</td>\n",
       "      <td>jids</td>\n",
       "      <td>365</td>\n",
       "      <td>413</td>\n",
       "      <td>c2dtpq9</td>\n",
       "      <td>c2dtywp</td>\n",
       "      <td>1</td>\n",
       "    </tr>\n",
       "    <tr>\n",
       "      <th>2</th>\n",
       "      <td>If I try and force down a breakfast I start ga...</td>\n",
       "      <td>Yes!\\n\\nPeople were so condescending about it ...</td>\n",
       "      <td>False</td>\n",
       "      <td>For me it's like temporarily having the flu. T...</td>\n",
       "      <td>&gt; If I try and force down a breakfast I start ...</td>\n",
       "      <td>amphetaminesfailure</td>\n",
       "      <td>CowGiraffe</td>\n",
       "      <td>331</td>\n",
       "      <td>383</td>\n",
       "      <td>cuv97mf</td>\n",
       "      <td>cuvnb27</td>\n",
       "      <td>1</td>\n",
       "    </tr>\n",
       "    <tr>\n",
       "      <th>3</th>\n",
       "      <td>Nonviolence leads to reform and progress. It's...</td>\n",
       "      <td>I don't believe you, you provide no examples, ...</td>\n",
       "      <td>True</td>\n",
       "      <td>Uh, no. Nonviolence leads to reform and progre...</td>\n",
       "      <td>&gt;Nonviolence leads to reform and progress. It'...</td>\n",
       "      <td>UmamiSalami</td>\n",
       "      <td>ArizonaIcedOutBoys</td>\n",
       "      <td>8</td>\n",
       "      <td>102</td>\n",
       "      <td>cmb6odf</td>\n",
       "      <td>cmbb0la</td>\n",
       "      <td>1</td>\n",
       "    </tr>\n",
       "    <tr>\n",
       "      <th>4</th>\n",
       "      <td>Have you actually read the bible ??</td>\n",
       "      <td>Is that where you learned how to be condescend...</td>\n",
       "      <td>True</td>\n",
       "      <td>&gt;Do you not understand how insensitive and rud...</td>\n",
       "      <td>&gt; Have you actually read the bible ??\\n\\nIs th...</td>\n",
       "      <td>lju1977</td>\n",
       "      <td>katapliktikos</td>\n",
       "      <td>58</td>\n",
       "      <td>93</td>\n",
       "      <td>cqq300a</td>\n",
       "      <td>cqq3289</td>\n",
       "      <td>1</td>\n",
       "    </tr>\n",
       "  </tbody>\n",
       "</table>\n",
       "</div>"
      ],
      "text/plain": [
       "                                          quotedpost  \\\n",
       "0  Please educate yoyrself before you bring your ...   \n",
       "1   There might be some small piece that's incorrect   \n",
       "2  If I try and force down a breakfast I start ga...   \n",
       "3  Nonviolence leads to reform and progress. It's...   \n",
       "4                Have you actually read the bible ??   \n",
       "\n",
       "                                         quotedreply  label  \\\n",
       "0                    Not condescending at all, jeez.   True   \n",
       "1  You said that. Not me. Not James-Cizuz. You sa...   True   \n",
       "2  Yes!\\n\\nPeople were so condescending about it ...  False   \n",
       "3  I don't believe you, you provide no examples, ...   True   \n",
       "4  Is that where you learned how to be condescend...   True   \n",
       "\n",
       "                                                post  \\\n",
       "0  Well a guy is saying Barra, who has those grea...   \n",
       "1  > I think you're the one who has a reading com...   \n",
       "2  For me it's like temporarily having the flu. T...   \n",
       "3  Uh, no. Nonviolence leads to reform and progre...   \n",
       "4  >Do you not understand how insensitive and rud...   \n",
       "\n",
       "                                               reply            post_user  \\\n",
       "0  > Please educate yoyrself before you bring you...        StalinHimself   \n",
       "1  > theories are constantly growing and evolving...                kishi   \n",
       "2  > If I try and force down a breakfast I start ...  amphetaminesfailure   \n",
       "3  >Nonviolence leads to reform and progress. It'...          UmamiSalami   \n",
       "4  > Have you actually read the bible ??\\n\\nIs th...              lju1977   \n",
       "\n",
       "           reply_user  start_offset  end_offset reddit_post_id  \\\n",
       "0           Kel_Casus           135         208        dbl4vl9   \n",
       "1                jids           365         413        c2dtpq9   \n",
       "2          CowGiraffe           331         383        cuv97mf   \n",
       "3  ArizonaIcedOutBoys             8         102        cmb6odf   \n",
       "4       katapliktikos            58          93        cqq300a   \n",
       "\n",
       "  reddit_reply_id  has_cond  \n",
       "0         dblfraj         1  \n",
       "1         c2dtywp         1  \n",
       "2         cuvnb27         1  \n",
       "3         cmbb0la         1  \n",
       "4         cqq3289         1  "
      ]
     },
     "execution_count": 8,
     "metadata": {},
     "output_type": "execute_result"
    }
   ],
   "source": [
    "# add a new column\n",
    "# probably could use lambda function\n",
    "# but this is easier to read\n",
    "def has_cond(text):\n",
    "    \n",
    "    if \"condesc\" in text:\n",
    "        return 1\n",
    "    else:\n",
    "        return 0\n",
    "    \n",
    "cond_df[\"has_cond\"] = cond_df[\"reply\"].map(has_cond)\n",
    "cond_df.head()"
   ]
  },
  {
   "cell_type": "code",
   "execution_count": 9,
   "metadata": {},
   "outputs": [
    {
     "data": {
      "text/plain": [
       "(0.5599832832968206, 0.0)"
      ]
     },
     "execution_count": 9,
     "metadata": {},
     "output_type": "execute_result"
    }
   ],
   "source": [
    "# See if the column has any relationship to being condescending\n",
    "from scipy.stats import pearsonr\n",
    "\n",
    "pearsonr(cond_df[\"has_cond\"], cond_df[\"label\"])"
   ]
  },
  {
   "cell_type": "markdown",
   "metadata": {},
   "source": [
    "We can see that there actually is a pretty strong correlation, so this means it's possible to (somewhat accurately) detect condescenscion just from the presence of the word alone. Not perfect but it's a start."
   ]
  },
  {
   "cell_type": "markdown",
   "metadata": {},
   "source": [
    "### Sentence Lengths:\n",
    "Was curious about this so just did a quick check."
   ]
  },
  {
   "cell_type": "code",
   "execution_count": 10,
   "metadata": {},
   "outputs": [
    {
     "name": "stdout",
     "output_type": "stream",
     "text": [
      "done\n"
     ]
    }
   ],
   "source": [
    "# Add in a new column showing the sentence length\n",
    "\n",
    "def num_words(text):\n",
    "    \n",
    "    split_text = text.split()\n",
    "    return len(split_text)\n",
    "\n",
    "cond_df[\"post_len\"] = cond_df[\"post\"].map(num_words)\n",
    "cond_df[\"reply_len\"] = cond_df[\"reply\"].map(num_words)\n",
    "print(\"done\")"
   ]
  },
  {
   "cell_type": "code",
   "execution_count": 11,
   "metadata": {},
   "outputs": [
    {
     "data": {
      "text/plain": [
       "Text(0, 0.5, 'Distribution')"
      ]
     },
     "execution_count": 11,
     "metadata": {},
     "output_type": "execute_result"
    },
    {
     "data": {
      "image/png": "[encoded data removed]",
      "text/plain": [
       "<Figure size 1080x1080 with 1 Axes>"
      ]
     },
     "metadata": {
      "needs_background": "light"
     },
     "output_type": "display_data"
    }
   ],
   "source": [
    "plt.figure(figsize=(15,15))\n",
    "plt.grid()\n",
    "sns.distplot(cond_df[\"post_len\"])\n",
    "sns.distplot(cond_df[\"reply_len\"])\n",
    "\n",
    "plt.title(\"Post Length (blue) & Reply Length (orange) Distribution\", fontsize=30)\n",
    "plt.xlabel(\"Number of words\", fontsize=20)\n",
    "plt.ylabel(\"Distribution\", fontsize=20)"
   ]
  },
  {
   "cell_type": "markdown",
   "metadata": {},
   "source": [
    "Most are around a similar length but there's a few really long posts. I guess since we have this column, it's worth checking out whether it's correlated"
   ]
  },
  {
   "cell_type": "code",
   "execution_count": 13,
   "metadata": {},
   "outputs": [
    {
     "data": {
      "text/plain": [
       "(0.05919754583799789, 1.913075044216428e-05)"
      ]
     },
     "execution_count": 13,
     "metadata": {},
     "output_type": "execute_result"
    }
   ],
   "source": [
    "# correlation with post length\n",
    "pearsonr(cond_df[\"post_len\"], cond_df[\"label\"])"
   ]
  },
  {
   "cell_type": "code",
   "execution_count": 14,
   "metadata": {},
   "outputs": [
    {
     "data": {
      "text/plain": [
       "(0.10146304054515597, 2.1452310668167938e-13)"
      ]
     },
     "execution_count": 14,
     "metadata": {},
     "output_type": "execute_result"
    }
   ],
   "source": [
    "# corr with reply length\n",
    "pearsonr(cond_df[\"reply_len\"], cond_df[\"label\"])"
   ]
  },
  {
   "cell_type": "markdown",
   "metadata": {},
   "source": [
    "So there's maybe a bit of correlation, but not a lot."
   ]
  },
  {
   "cell_type": "markdown",
   "metadata": {},
   "source": [
    "## Research on condescenscion\n"
   ]
  },
  {
   "cell_type": "markdown",
   "metadata": {},
   "source": [
    "As mentioned in the introduction, there is not a lot of research into things that make someone condescending other than their general attitude. Here is another definition:\n",
    "\n",
    "[Condescension](https://dictionary.cambridge.org/dictionary/english/condescension): Behaviour that shows you think you are more important or more intelligent than other people:\n",
    "- He looked at me with condescension and pity in his eyes.\n",
    "- She answered him with such haughty condescension that his face went white.\n",
    "\n",
    "Since there aren't a lot of things that can tell me, I will just do some EDA."
   ]
  },
  {
   "cell_type": "markdown",
   "metadata": {},
   "source": [
    "## Word Clouds <a id='word_clouds'></a>\n",
    "In the absence of any other source to go on, I will put the data into word clouds and see what the most popular words are:"
   ]
  },
  {
   "cell_type": "code",
   "execution_count": 15,
   "metadata": {},
   "outputs": [],
   "source": [
    "# filter the data by condescending vs not\n",
    "is_condescending = cond_df[cond_df[\"label\"] == True][\"post\"]\n",
    "is_not_condescending = cond_df[cond_df[\"label\"] == False][\"post\"]"
   ]
  },
  {
   "cell_type": "code",
   "execution_count": 16,
   "metadata": {},
   "outputs": [],
   "source": [
    "# export to CSV and upload to website\n",
    "is_condescending.to_csv(\"./cond_data/for_wordcloud/is_condescending.csv\", index=False)\n",
    "is_not_condescending.to_csv(\"./cond_data/for_wordcloud/is_not_condescending.csv\", index=False)"
   ]
  },
  {
   "cell_type": "markdown",
   "metadata": {},
   "source": [
    "The thumbs down one is condescending, while the thumbs up one is not."
   ]
  },
  {
   "cell_type": "markdown",
   "metadata": {},
   "source": [
    " # Words in Condescending Posts\n",
    " <img src=\"./other_files/condescending_wordcloud.png\" alt=\"Condescending Word Cloud\"> "
   ]
  },
  {
   "cell_type": "markdown",
   "metadata": {},
   "source": [
    " # Words in Non Condescending Posts\n",
    " <img src=\"./other_files/not_condescending.png\" alt=\"Not Condescending Word Cloud\"> "
   ]
  },
  {
   "cell_type": "markdown",
   "metadata": {},
   "source": [
    "As we can see it is quite similar. Both of them have the words 'people' as the most common, followed by 'like', 'just', 'think', 'know, 'can', 'get', 'one'.etc. This means that using a traditional bag of words approach won't work (although, this doesn't take into account n-grams)."
   ]
  },
  {
   "cell_type": "markdown",
   "metadata": {},
   "source": [
    "## Reply\n",
    "Next we can make word clouds of the replies (where people accuse the poster of being condescending). Hopefully this is more different."
   ]
  },
  {
   "cell_type": "code",
   "execution_count": 17,
   "metadata": {},
   "outputs": [],
   "source": [
    "# filter the data by condescending vs not\n",
    "is_condescending = cond_df[cond_df[\"label\"] == True][\"reply\"]\n",
    "is_not_condescending = cond_df[cond_df[\"label\"] == False][\"reply\"]"
   ]
  },
  {
   "cell_type": "code",
   "execution_count": 18,
   "metadata": {},
   "outputs": [],
   "source": [
    "# export to CSV and upload to website\n",
    "is_condescending.to_csv(\"./cond_data/for_wordcloud/is_condescending_reply.csv\", index=False)\n",
    "is_not_condescending.to_csv(\"./cond_data/for_wordcloud/is_not_condescending_reply.csv\", index=False)"
   ]
  },
  {
   "cell_type": "markdown",
   "metadata": {},
   "source": [
    " ## Replies to condescending posts\n",
    " <img src=\"./other_files/condescending_reply.png\" alt=\"Replies to Condescending Posts\"> "
   ]
  },
  {
   "cell_type": "markdown",
   "metadata": {},
   "source": [
    " # Replies to non-condescending posts\n",
    " <img src=\"./other_files/not_condescending_reply.png\" alt=\"Replies to non condescending posts\"> "
   ]
  },
  {
   "cell_type": "markdown",
   "metadata": {},
   "source": [
    "We can see that the most popular word in replies to a condescending post is 'condescending'. This makes sense since they are accusing the speaker of being condescending. However we can see that the word 'condescending' is also quite frequent in the non-condescending posts. We can see some examples here:"
   ]
  },
  {
   "cell_type": "code",
   "execution_count": 19,
   "metadata": {},
   "outputs": [],
   "source": [
    "# posts that are NOT condescending, but the reply has the word 'condescending in it'\n",
    "\n",
    "def show_row(row_num):\n",
    "    print(\"---Post---\")\n",
    "    print(cond_df[(cond_df[\"label\"] == False)\n",
    "        & (cond_df[\"reply\"].str.contains(\"condescending\"))][[\"post\", \"reply\"]].iloc[row_num, 0])\n",
    "    \n",
    "    print(\"\\n---Reply---\")\n",
    "    print(cond_df[(cond_df[\"label\"] == False)\n",
    "        & (cond_df[\"reply\"].str.contains(\"condescending\"))][[\"post\", \"reply\"]].iloc[row_num, 1])\n",
    "    print(\"-\" * 15)"
   ]
  },
  {
   "cell_type": "code",
   "execution_count": 20,
   "metadata": {},
   "outputs": [
    {
     "name": "stdout",
     "output_type": "stream",
     "text": [
      "---Post---\n",
      ">Semantics. Yukino is certainly a negative nancy. Disputing only the \"always\" point doesn't actually help your overall case.\n",
      "\n",
      "Disputing the \"always\" was my way to ask for something more concrete because you were being vague. I'm not interested in arguing about semantics. \n",
      "\n",
      "\n",
      "What was the point of sticking in the word \"only\", by the way? I'm not strawmaning here.\n",
      "\n",
      ">Except she's not just being reserved. She absolutely represses emotions even towards her own family. \n",
      "\n",
      "Yukino is simply more reserved than usual..? I don't know what else to tell you man. \n",
      "\n",
      "\n",
      "Her stern mom doesn't make things easy either.\n",
      "\n",
      ">Case in point look at her older sister. \n",
      "\n",
      "Her sister happens to be more outgoing. That's it really. \n",
      "\n",
      ">She could make friends easily if she tried to. \n",
      "\n",
      "Again, she's not very outgoing, more of an introvert, tendency to be blunt, kinda awkward, etc. It's not easy for everyone.\n",
      ">She doesn't understand that she doesn't have any friends because oftentimes she's toxic as fuck. \n",
      "\n",
      "Examples of her being \"toxic as fuck\"?\n",
      "\n",
      ">Except that's literally how she sees it. Pretty sure she directly explicitly stated this in one of the earlier episodes, that her awesomeness is why she lacks friends.\n",
      "\n",
      "I don't remember this happening.\n",
      "\n",
      ">She shits on her little sister, disrespects her teacher, belittles hayato and hachiman, and teases yui.\n",
      "\n",
      "Haruno's relationship with Yui is fine, and she doesn't belittle Hayato and Hachiman. You call her an edgelord, I call her a mischievous little shit.\n",
      "\n",
      ">Unless your relationship is borderline intimate, to call your former teacher -chan is straight up unthinkable.\n",
      "\n",
      "I guess the entire cast of K-On! are disrespectful assholes then. \n",
      "\n",
      ">...\n",
      "\n",
      "?\n",
      ">See the vast difference?\n",
      "\n",
      "It's understandable why Hayato would be like that because Hachiman acted like a prick to get the information from him and end things quickly, just like he did on some other occasions. Plus, he was stressed out from the events prior. Cut him some slack.\n",
      "\n",
      ">I think your problem is that you confuse edgelord with non-human entity.\n",
      "\n",
      "No. I just don't think these guys qualify as edgelords at all.\n",
      "\n",
      "---Reply---\n",
      ">Disputing the \"always\" was my way to ask for something more concrete because you were being vague. I'm not interested in arguing about semantics.\n",
      "\n",
      "Well let's see...she has a negative outlook towards her family, Hachiman (she likes him as a person but despises his behavior, I think she even used the word despise too), hurls verbal abuse at people over things that could easily be resolved without insults, almost never smiles even in private unless she's putting on a facade, condescends people even if they're trying (when she managed the festival committee she was constantly talking about what the other committee members have yet to do, never once acknowledging their work), and overall rarely demonstrates the slightest passion for life. Is that enough points for you?\n",
      "\n",
      ">Yukino is simply more reserved than usual..? I don't know what else to tell you man.\n",
      "\n",
      "Tell me that you acknowledge her edginess lmfao. You do realize that literally every edgelord behavior is a matter of quantity not just quality right? A lot of people will exhibit small amounts of edgelord behavior. If dabbling in small amounts of edgelord behavior makes people edgelords then practically everyone is an edgelord. There's a reason why even though I cited an example of Hayato acting edgy I have never once said he's an edgelord - yea he was being nihilistic and negative and saying shock value phrases but he doesn't do it frequently enough to be an edgelord. \n",
      "\n",
      "Yukino is not just more reserved than usual. Hachiman is already absurdly reserved and Yukino is somehow far above that. Please don't try to handwave abnormal behaviors away into thin air.\n",
      "\n",
      ">Again, she's not very outgoing, more of an introvert, tendency to be blunt, kinda awkward, etc. It's not easy for everyone.\n",
      "\n",
      "No, Yukino really can make more friends if she put in even a slight amount of effort in. She's smart, pretty, comes from an excellent background, and, as edgy as she is, she's a good person at heart. She might never fit in with the \"in\" group, but what about the other introverts? The book club people? The chess team? The other high achievers who care more about studying than gossip and makeup? There's no shortage of other introverts in society that are going to be willing to accept a beautiful talented introvert friend. I had way less going for me than Yukino and I could still make friends easily once I dropped the edgelord behavior. In fact, I made friends even while I was so edgy that my english teacher thought I was doing it on purpose as a joke. I made edgelord friends during that time. Not a lot, but they were there.\n",
      "\n",
      "Yukino might have a time making extremely close friends even if she dropped the edgelord act due to some of her fixed personality traits. I get that. I REALLY get that. But for her to almost completely lack even normal friends is just a symptom of her being almost Hachiman levels of edgy. Fuck dude, right in episode 1 Hachiman extended the olive branch to her and she refused him on the spot before he could even complete the sentence. Please, stop giving Yukino a free pass. She lacks friends out of conscious choice to stay true to her edgelord ways, not because she can't make friends.\n",
      "\n",
      ">Examples of her being \"toxic as fuck\"?\n",
      "\n",
      "Easy. Absolutely shits on Hachiman in episode 1 when they just met (being the fair person that I am I won't count the occasional jabs she threw at him throughout the entire series on account of it being friendly banter). Made Miura cry at summer camp (not going to count the tennis court incident since Yukino was provoked there). Shit on the other school's student council during christmas prep (yea they were idiots I get it, but when even Hachiman says you've gone too far, there's an issue). When Miura comes to the volunteer club for help.\n",
      "\n",
      ">I don't remember this happening.\n",
      "\n",
      "When talking with Hachiman in episode 1 regarding why Yukino lacks friends:\n",
      "\n",
      "\"The human race is weak, ugly, jealous, and hate those with more than them. Strangely enough, it's the talented that have it rough.\" \n",
      "\n",
      "Close enough?\n",
      "\n",
      ">Haruno's relationship with Yui is fine, and she doesn't belittle Hayato and Hachiman. You call her an edgelord, I call her a mischievous little shit.\n",
      "\n",
      "Yea Haruno is not too toxic to Yui I agree. You're flat out delusional if you say she doesn't belittle Hayato and Hachiman though. The first time it's shown that she and Hayato know each other personally was in that episode where Haruno and Hachiman are at a cafe together. It's late in the evening and Haruno just straight up commands Hayato to arrive immediately for her own amusement. But wait, she tells Hachiman that Hayato doesn't even amuse her, that he bores her basically because he's not a delinquent. She also belittles Hachiman all the time by being incessantly and utterly patronizing in every single interaction with him, not to mention making a veiled threat at him for going \"boring\" on her that one time in season 2 (can't remember the episode). I can't even see a possible discussion on this point except on the term belittling. Perhaps condescending or patronizing fits better? Depending on how you define each of those terms. You get the general idea though.\n",
      "\n",
      ">I guess the entire cast of K-On! are disrespectful assholes then.\n",
      "\n",
      "Haven't watched it, can't comment.\n",
      "\n",
      ">It's understandable why Hayato would be like that because Hachiman acted like a prick to get the information from him and end things quickly, just like he did on some other occasions. Plus, he was stressed out from the events prior. Cut him some slack.\n",
      "\n",
      "I never once called Hayato an edgelord though. He was certainly displaying edgy behavior here however. That's not an issue by itself, it's just that there's already so much edginess in the series, Hayato adding more is really not helping. But I don't need to cut Hayato slack because I don't consider his character in general to be an edgelord in the first place.\n",
      "\n",
      ">No. I just don't think these guys qualify as edgelords at all.\n",
      "\n",
      "Then what is an edgelord to you?\n",
      "\n",
      "\n",
      "---------------\n",
      "---Post---\n",
      "A lot of Japanese people are just asshats like that. They were never taught to be racially or culturally sensitive growing up, because they rarely encounter other races and cultures. I would guess that it's better in the cities because they're used to foreigners and have learned to view them as people instead of something akin to a dancing bear.\n",
      "\n",
      "They don't mean to insult you. If anything, I think it's a bit self-deprecating. They know they can't speak English, so the best thing they can do is speak Japanese with a shitty English accent and they think that is hilarious for some reason.\n",
      "\n",
      "I just ignore them. If it really bothers you, you could say something about it. They would probably shut up, and then be very careful around you for the foreseeable future, making any kind of friendship difficult.\n",
      "\n",
      "---Reply---\n",
      ">They were never taught to be racially or culturally sensitive growing up,\n",
      "\n",
      "Your hitting the nail in the head man. Japan is largely a homogeneous nation, not exactly a melting pot like America. We run into foreigners all the time back in the states and the thrill and novelty of \"foreigness\" runs out fast. And we can see just how pointless and tasteless to mock someone for their bad pronunciations. Unless of course, it's Hollywood doing it, in some cheesy slapstick movies. \n",
      "\n",
      "The plus side is that you don't get nearly as much PC bullshit, the down side is that you get a bunch of insensitive jerks running around making fun of your facial features, your hair color, your skin tone etc. Guess you can't have it both ways (people are respectful and sensitive but not condescending).\n",
      "---------------\n",
      "---Post---\n",
      "Hitler wasn't an asshole. Sure, what he did was morally reprehensible, but based on all the documentation on him, he seems like a swell fellow. Don't know what Godwin's law is, although I heard it before.\n",
      "\n",
      "When you're so sad the only thing that makes you happy is making \"witty\" responses to every line I write.\n",
      "\n",
      "And that sentiment is what got us down this awful path in the first place.\n",
      "\n",
      "Oh, I'll split every hair I don't like. I've already established this.\n",
      "\n",
      "And that, ladies and gentlemen, is why I don't have respect for you people. Because you take the hyper-obvious bait so God damn easily.\n",
      "\n",
      "\n",
      "---Reply---\n",
      ">Hitler wasn't an asshole\n",
      "\n",
      "Yeah, I'm glad I had already decided this was going to be my last reply, because I don't debate with people who call one of history's biggest mass murderers a \"swell fellow\".\n",
      "\n",
      ">When you're so sad the only thing that makes you happy is making \"witty\" responses to every line I write\n",
      "\n",
      "When you're so desperate and scrambling for something smart to say you make something up and try and play a psychologist. \n",
      "\n",
      ">Oh, I'll split every hair I don't like. I've already established this. \n",
      "\n",
      "The complete and total failure of self-awareness continues. \n",
      "\n",
      ">And that, ladies and gentlemen, is why I don't have respect for you people. Because you take the hyper-obvious bait so God damn easily.\n",
      "\n",
      "You wouldn't believe how often assholes employ this kind of condescending tosh. Don't bother.\n",
      "\n",
      "\n",
      "---------------\n",
      "---Post---\n",
      "You're right about that. I don't mean to seem intent on others having kids. I can liken it, hypothetically, to a band I like and want other people to discover, too. I would want to share my excitement with other people in the hopes that they might appreciate and enjoy it. I think it's great that, knowing what you know about yourself, you've made a good decision. I arrived here at random. No condescension intended.\n",
      "\n",
      "---Reply---\n",
      ">I can liken it, hypothetically, to a band I like and want other people to discover, too. I would want to share my excitement with other people in the hopes that they might appreciate and enjoy it.\n",
      "\n",
      "You know, that's kind of the problem. You're enthusiastic about what you have with your kid, and that's great. And wanting to share that enthusiasm, kind of like convincing people to eat something strange that turned out to taste amazing, is understandable. But you have to remember very well that the things that makes you happy, would make a lot of people miserable. We come here to gather with other people who feel the same way, to escape from people in our everyday lives who take their enthusiasm about being a parent too far and get pushy, condescending and smug with us. Whenever parents wander in here and show that they're not completely supportive, we tend to get defensive as a group, since this is our safe space.\n",
      "---------------\n",
      "---Post---\n",
      "I don't begrudge people their criticisms. But, it does become difficult in this community to outright say, \"I really liked this and didn't have much of a problem with it.\" People tell you you're not paying attention, or you're too easily please, or you're just plain stupid for not seeing how the things they didn't like were bad.\n",
      "\n",
      "I'm not saying that you in particular have done this, but it is a problem in the RWBY fandom. Sometimes, it seems like you're not allowed to like the show for what it is.\n",
      "\n",
      "On a side note, the couple of things I didn't like about V5 came from changes that appeared to be reactionary to fans. I say \"appeared\" because we really can't know what went on behind the scenes, we can only guess.\n",
      "\n",
      "---Reply---\n",
      ">On a side note, the couple of things I didn't like about V5 came from changes that appeared to be reactionary to fans. I say \"appeared\" because we really can't know what went on behind the scenes, we can only guess.\n",
      "\n",
      "Honestly, that's one of my problems with the writing as well. The writers are so reactionary to fans. Listening to complaints and feedback is fine and all, but when you're reacting to pretty much everything and what is written is a direct result of that, it makes me wonder if the writers even have an overarching plan at all written down.\n",
      "\n",
      "As much as I want the writers to listen to my complaints, I would've respected them more if they put their foot down and say \"We have a plan. Trust us.\" and then backing up that claim with a well-written and well-executed storyline that most of us could enjoy without it being divisive.\n",
      "\n",
      ">I don't begrudge people their criticisms. But, it does become difficult in this community to outright say, \"I really liked this and didn't have much of a problem with it.\" People tell you you're not paying attention, or you're too easily please, or you're just plain stupid for not seeing how the things they didn't like were bad.\n",
      "\n",
      "Yeah, I've seen a few people who does that. Personally, I would've simply written a counter-argument without any name calling or condescending statements if I can help it. But anonymity on the internet gives people the incentive to be much more vocal than they are in real life. And also more rude.\n",
      "---------------\n"
     ]
    },
    {
     "data": {
      "text/plain": [
       "[None, None, None, None, None]"
      ]
     },
     "execution_count": 20,
     "metadata": {},
     "output_type": "execute_result"
    }
   ],
   "source": [
    "# print out 5 random lines (note: I ran this quite a few times to read different samples)\n",
    "[show_row(random.randint(0,100)) for _ in range(5)]"
   ]
  },
  {
   "cell_type": "markdown",
   "metadata": {},
   "source": [
    "## Findings:\n",
    "- Posts that are not condescending can still be rude (although not necessarily).\n",
    "- Some of the posts classified as 'not condescending' seem pretty condescending to me but I will trust the results from the source as they were collected from multiple people.\n",
    "- The reason for 'condescending' being in the reply, without the initial being post being classified as condescending, is quite frequently because the replier is referring to something else, for example in these replies:\n",
    "    - \"You're right, but I felt it would have been condescending to say \"That would be like starting a company and having someone say that another method which you researched already may be better.\"\"\n",
    "    - \"After a few months of long conversations, she moved to a more agnostic position... but was in the loud condescending crowd that you called out in you OP\"\n",
    "- The word 'condescending' doesn't really get used in any other forms, such as 'condescension' or 'condescend'. This isn't really that helpful anyway since stemming/lemmatizing exists but at least it made our word cloud very nice (in hindsight, this wasn't true, the website just stemmed it for us)\n",
    "\n",
    "This means that if possible, we should take into account the context of the word \"condescending\" when modelling."
   ]
  },
  {
   "cell_type": "markdown",
   "metadata": {},
   "source": [
    "Finally, I want to remove any quoted text. This is pretty important because if I quote someone who is condescending, I shouldn't be flagged as being condescending.\n",
    "\n",
    "Of course, this regex only works on Reddit (because of how quotes are formatted) but all the data is from Reddit anyway. If you wanted to use this on another site you would need to figure out how to remove their quotes."
   ]
  },
  {
   "cell_type": "code",
   "execution_count": 22,
   "metadata": {},
   "outputs": [],
   "source": [
    "def remove_reddit_quotes(text):\n",
    "    \n",
    "    # the criteria of a quote is a \">\", then all text is quoted\n",
    "    # until there is \\n\\n (2 of them in a row)\n",
    "    # source: https://www.reddit.com/r/redditdev/comments/acmcgc/best_way_to_ignore_quoted_text_in_reddit_comments/\n",
    "    quote_regex = r\">.*\\n\\n\"\n",
    "    \n",
    "    return re.sub(quote_regex, \"\", text)"
   ]
  },
  {
   "cell_type": "code",
   "execution_count": 23,
   "metadata": {},
   "outputs": [],
   "source": [
    "# remove from post and reply also\n",
    "cond_df[\"cleaned_post\"] = cond_df[\"post\"].map(remove_reddit_quotes)"
   ]
  },
  {
   "cell_type": "code",
   "execution_count": 24,
   "metadata": {},
   "outputs": [],
   "source": [
    "cond_df[\"cleaned_reply\"] = cond_df[\"reply\"].map(remove_reddit_quotes)"
   ]
  },
  {
   "cell_type": "code",
   "execution_count": 25,
   "metadata": {},
   "outputs": [
    {
     "data": {
      "text/html": [
       "<div>\n",
       "<style scoped>\n",
       "    .dataframe tbody tr th:only-of-type {\n",
       "        vertical-align: middle;\n",
       "    }\n",
       "\n",
       "    .dataframe tbody tr th {\n",
       "        vertical-align: top;\n",
       "    }\n",
       "\n",
       "    .dataframe thead th {\n",
       "        text-align: right;\n",
       "    }\n",
       "</style>\n",
       "<table border=\"1\" class=\"dataframe\">\n",
       "  <thead>\n",
       "    <tr style=\"text-align: right;\">\n",
       "      <th></th>\n",
       "      <th>quotedpost</th>\n",
       "      <th>quotedreply</th>\n",
       "      <th>label</th>\n",
       "      <th>post</th>\n",
       "      <th>reply</th>\n",
       "      <th>post_user</th>\n",
       "      <th>reply_user</th>\n",
       "      <th>start_offset</th>\n",
       "      <th>end_offset</th>\n",
       "      <th>reddit_post_id</th>\n",
       "      <th>reddit_reply_id</th>\n",
       "      <th>has_cond</th>\n",
       "      <th>post_len</th>\n",
       "      <th>reply_len</th>\n",
       "      <th>cleaned_post</th>\n",
       "      <th>cleaned_reply</th>\n",
       "    </tr>\n",
       "  </thead>\n",
       "  <tbody>\n",
       "    <tr>\n",
       "      <th>0</th>\n",
       "      <td>Please educate yoyrself before you bring your ...</td>\n",
       "      <td>Not condescending at all, jeez.</td>\n",
       "      <td>True</td>\n",
       "      <td>Well a guy is saying Barra, who has those grea...</td>\n",
       "      <td>&gt; Please educate yoyrself before you bring you...</td>\n",
       "      <td>StalinHimself</td>\n",
       "      <td>Kel_Casus</td>\n",
       "      <td>135</td>\n",
       "      <td>208</td>\n",
       "      <td>dbl4vl9</td>\n",
       "      <td>dblfraj</td>\n",
       "      <td>1</td>\n",
       "      <td>37</td>\n",
       "      <td>17</td>\n",
       "      <td>Well a guy is saying Barra, who has those grea...</td>\n",
       "      <td>Not condescending at all, jeez.</td>\n",
       "    </tr>\n",
       "    <tr>\n",
       "      <th>1</th>\n",
       "      <td>There might be some small piece that's incorrect</td>\n",
       "      <td>You said that. Not me. Not James-Cizuz. You sa...</td>\n",
       "      <td>True</td>\n",
       "      <td>&gt; I think you're the one who has a reading com...</td>\n",
       "      <td>&gt; theories are constantly growing and evolving...</td>\n",
       "      <td>kishi</td>\n",
       "      <td>jids</td>\n",
       "      <td>365</td>\n",
       "      <td>413</td>\n",
       "      <td>c2dtpq9</td>\n",
       "      <td>c2dtywp</td>\n",
       "      <td>1</td>\n",
       "      <td>314</td>\n",
       "      <td>230</td>\n",
       "      <td>Well you're a stupid poopy-head.\\n\\nSee, I don...</td>\n",
       "      <td>Why would theories self-correct if they were a...</td>\n",
       "    </tr>\n",
       "    <tr>\n",
       "      <th>2</th>\n",
       "      <td>If I try and force down a breakfast I start ga...</td>\n",
       "      <td>Yes!\\n\\nPeople were so condescending about it ...</td>\n",
       "      <td>False</td>\n",
       "      <td>For me it's like temporarily having the flu. T...</td>\n",
       "      <td>&gt; If I try and force down a breakfast I start ...</td>\n",
       "      <td>amphetaminesfailure</td>\n",
       "      <td>CowGiraffe</td>\n",
       "      <td>331</td>\n",
       "      <td>383</td>\n",
       "      <td>cuv97mf</td>\n",
       "      <td>cuvnb27</td>\n",
       "      <td>1</td>\n",
       "      <td>107</td>\n",
       "      <td>179</td>\n",
       "      <td>For me it's like temporarily having the flu. T...</td>\n",
       "      <td>Yes!\\n\\nPeople were so condescending about it ...</td>\n",
       "    </tr>\n",
       "  </tbody>\n",
       "</table>\n",
       "</div>"
      ],
      "text/plain": [
       "                                          quotedpost  \\\n",
       "0  Please educate yoyrself before you bring your ...   \n",
       "1   There might be some small piece that's incorrect   \n",
       "2  If I try and force down a breakfast I start ga...   \n",
       "\n",
       "                                         quotedreply  label  \\\n",
       "0                    Not condescending at all, jeez.   True   \n",
       "1  You said that. Not me. Not James-Cizuz. You sa...   True   \n",
       "2  Yes!\\n\\nPeople were so condescending about it ...  False   \n",
       "\n",
       "                                                post  \\\n",
       "0  Well a guy is saying Barra, who has those grea...   \n",
       "1  > I think you're the one who has a reading com...   \n",
       "2  For me it's like temporarily having the flu. T...   \n",
       "\n",
       "                                               reply            post_user  \\\n",
       "0  > Please educate yoyrself before you bring you...        StalinHimself   \n",
       "1  > theories are constantly growing and evolving...                kishi   \n",
       "2  > If I try and force down a breakfast I start ...  amphetaminesfailure   \n",
       "\n",
       "   reply_user  start_offset  end_offset reddit_post_id reddit_reply_id  \\\n",
       "0   Kel_Casus           135         208        dbl4vl9         dblfraj   \n",
       "1        jids           365         413        c2dtpq9         c2dtywp   \n",
       "2  CowGiraffe           331         383        cuv97mf         cuvnb27   \n",
       "\n",
       "   has_cond  post_len  reply_len  \\\n",
       "0         1        37         17   \n",
       "1         1       314        230   \n",
       "2         1       107        179   \n",
       "\n",
       "                                        cleaned_post  \\\n",
       "0  Well a guy is saying Barra, who has those grea...   \n",
       "1  Well you're a stupid poopy-head.\\n\\nSee, I don...   \n",
       "2  For me it's like temporarily having the flu. T...   \n",
       "\n",
       "                                       cleaned_reply  \n",
       "0                    Not condescending at all, jeez.  \n",
       "1  Why would theories self-correct if they were a...  \n",
       "2  Yes!\\n\\nPeople were so condescending about it ...  "
      ]
     },
     "execution_count": 25,
     "metadata": {},
     "output_type": "execute_result"
    }
   ],
   "source": [
    "cond_df.head(3)"
   ]
  },
  {
   "cell_type": "markdown",
   "metadata": {},
   "source": [
    "Of course, some people who are bad at formatting might just use the normal quotations so I'll check that quickly"
   ]
  },
  {
   "cell_type": "code",
   "execution_count": 26,
   "metadata": {},
   "outputs": [
    {
     "data": {
      "text/plain": [
       "1924"
      ]
     },
     "execution_count": 26,
     "metadata": {},
     "output_type": "execute_result"
    }
   ],
   "source": [
    "# posts where the post contains a quotation mark\n",
    "cond_df[\"post\"].str.contains(\"\\\"\").sum()"
   ]
  },
  {
   "cell_type": "code",
   "execution_count": 27,
   "metadata": {},
   "outputs": [],
   "source": [
    "# Show some posts with quotations\n",
    "def row_with_quotations(row_num):\n",
    "    print(\"---Post---\")\n",
    "    print(cond_df[cond_df[\"post\"].str.contains(\"\\\"\")][[\"post\"]].iloc[row_num, 0])"
   ]
  },
  {
   "cell_type": "code",
   "execution_count": 28,
   "metadata": {
    "scrolled": true
   },
   "outputs": [
    {
     "name": "stdout",
     "output_type": "stream",
     "text": [
      "---Post---\n",
      "Fuck that. It's not on her to say \"Excuse me, lawbreaker-- your nakedness is negatively affecting my female sensitivities. Please carry sexually harassing people elsewhere\" \n",
      "---Post---\n",
      "So when you say she's highly functional, do you think she more than aware of what she's doing and is probably for the most part capable of actually getting a job and making a life for herself? I've known people with Autism and Asperger's that live with a single relative but have jobs and are actually able to \"blend in\" (for lack of a better phrase) unless they tell you.\n",
      "\n",
      "I promise you I'm not trying to villainise your sister, but I'm just concerned that she's taking advantage of you and knows full well that she could make a difference but her situation is way too convenient to do that. Though on the flip-side it must be hard to be understood when you carry the burden of a mental health diagnosis so I'm seeing both sides here.\n",
      "\n",
      "Ultimately, it would be dreadful for this to ruin a 9+ year relationship with the woman you're with, and I think if your sister was the cause of your breakup it would permanently damage your relationship with her, I'm gonna guess you've already said this though? Damn I feel for you so much :|\n",
      "---Post---\n",
      "> Should I bother...\n",
      "\n",
      "There's that reliable condescension.\n",
      "\n",
      "> ...asking for examples?\n",
      "\n",
      "Not really, because I and others have offered them in the past and you've \"adamantly refused to consider that there may be some truth\" to them.\n",
      "\n",
      "> I presume that it's sometimes fear, sometimes something more like resentment or spite.\n",
      "\n",
      "And apparently not because you deserved it. QED.\n",
      "\n",
      "It's unfortunate (since you're bright and apparently well-educated), but the arrogance and sophistry mean it's just not worth engaging with you.\n",
      "---Post---\n",
      "> No, it's a sexist term by definition.\n",
      "\n",
      "By what definition? It doesn't generalise or stereotype as discussed earlier; it's a description of a form of prejudice. That we have words to clarify instances of prejudice one wishes to speak about is not inherently prejudice. Also just the presence of \"man\" in the name you have great issue with, as though talking about the issue of 'how women are treated' is fine but 'how men treat women' is not. A gendered term is not discrimination by itself.\n",
      "\n",
      ">What? Stealing isn't a crime? Blacking refers directly to black on white stealing.\n",
      "\n",
      "I said I wouldn't repeat myself but you're really struggling with this one. There is nothing about the word black that says anything about crime. You are making that association when you define it and so your conception of the word is racist. This is completely and entirely distinct from black crime and male explanations, where black and male literally mean black and male.\n",
      "\n",
      ">Sooner or later people run out of ways to defend their sexism.\n",
      "\n",
      "I only run out when you stop making new points. The entire blacking tangent is no way analogous and yet it's entirely derailed the discussion for several comments. You seem to think it's an airtight point but it doesn't hold any water at all, so you should invest less in that particular idea.\n",
      "---Post---\n",
      "I, um... Really? Wow.\n",
      "\n",
      "Well, anyways, your w question isnt \"is it natural?\", but \"is it typical?\" And the answer is not really, no, unless people are getting waaay more out of these videos than I am. Mostly it either gives people a tingly sensation on their heads (or backs) somewhat similar to a light touch, or puts them to sleep. Often times both.\n"
     ]
    },
    {
     "data": {
      "text/plain": [
       "[None, None, None, None, None]"
      ]
     },
     "execution_count": 28,
     "metadata": {},
     "output_type": "execute_result"
    }
   ],
   "source": [
    "[row_with_quotations(random.randint(0,100)) for _ in range(5)]"
   ]
  },
  {
   "cell_type": "markdown",
   "metadata": {},
   "source": [
    "Unfortunately, there are a lot of different ways to use these quotation marks. For example:\n",
    "- Quotes used as scare quotes. This seems to happen a lot, from the examples above.\n",
    "- Some quotes are actually used as quotes. Unfortunately I don't have the parent post so I can't check this easily."
   ]
  },
  {
   "cell_type": "markdown",
   "metadata": {},
   "source": [
    "I can check if this is an issue by looking at the length of the words within the quotes. If it's usually short, then that's probably not an issue.\n"
   ]
  },
  {
   "cell_type": "code",
   "execution_count": 29,
   "metadata": {},
   "outputs": [],
   "source": [
    "# function that tells you the longest quote within a text\n",
    "def quote_length(text):\n",
    "    # look for a single or double quot\n",
    "    # then some number of characters (not newlines)\n",
    "    # then the same quote\n",
    "    # then anything that isn't a letter (to avoid something like \"it's\")\n",
    "    quotes_regex = r\"([\\'\\\"])(.*)\\1[^\\w]\"\n",
    "    \n",
    "    matches =  re.findall(quotes_regex, text)\n",
    "    \n",
    "    max_len = 0\n",
    "    \n",
    "    # get the length of the quoted thing\n",
    "    for match in matches:\n",
    "        words = match[1].split()\n",
    "        \n",
    "        if len(words) > max_len:\n",
    "            max_len = len(words)\n",
    "            \n",
    "    return max_len"
   ]
  },
  {
   "cell_type": "code",
   "execution_count": 30,
   "metadata": {},
   "outputs": [
    {
     "data": {
      "text/plain": [
       "0        0\n",
       "1       54\n",
       "2        0\n",
       "3        0\n",
       "4        0\n",
       "        ..\n",
       "5203     0\n",
       "5204     0\n",
       "5205     9\n",
       "5206     0\n",
       "5207     0\n",
       "Name: cleaned_post, Length: 5208, dtype: int64"
      ]
     },
     "execution_count": 30,
     "metadata": {},
     "output_type": "execute_result"
    }
   ],
   "source": [
    "quote_lengths = cond_df[\"cleaned_post\"].map(quote_length)\n",
    "quote_lengths"
   ]
  },
  {
   "cell_type": "code",
   "execution_count": 31,
   "metadata": {},
   "outputs": [
    {
     "data": {
      "text/plain": [
       "Text(0.5, 1.0, 'Dist of num of words in quotes')"
      ]
     },
     "execution_count": 31,
     "metadata": {},
     "output_type": "execute_result"
    },
    {
     "data": {
      "image/png": "[encoded data removed]",
      "text/plain": [
       "<Figure size 720x720 with 1 Axes>"
      ]
     },
     "metadata": {
      "needs_background": "light"
     },
     "output_type": "display_data"
    }
   ],
   "source": [
    "# make a plot\n",
    "plt.figure(figsize=(10,10))\n",
    "sns.countplot(quote_lengths[quote_lengths > 0])\n",
    "plt.xlim(-1, 40)\n",
    "plt.xlabel(\"Number of words in quote\")\n",
    "plt.title(\"Dist of num of words in quotes\", fontsize = 20)"
   ]
  },
  {
   "cell_type": "markdown",
   "metadata": {},
   "source": [
    "It looks like most of them are short and are used as scare quotes. Therefore I will just leave it as is. Anyway, I can't think of a way to sort through these quotes without access to the parent post."
   ]
  },
  {
   "cell_type": "markdown",
   "metadata": {},
   "source": [
    "# Basic model <a id='basic_model'></a>\n",
    "I just want to try a basic model to see how well it does.\n",
    "\n",
    "This basic model will:\n",
    "\n",
    "1) stem the words\n",
    "\n",
    "2) Use a TF-IDF vectorizer to vectorize the words\n",
    "\n",
    "3) Use a Naive Bayes model to predict the result."
   ]
  },
  {
   "cell_type": "code",
   "execution_count": 32,
   "metadata": {},
   "outputs": [
    {
     "data": {
      "text/html": [
       "<div>\n",
       "<style scoped>\n",
       "    .dataframe tbody tr th:only-of-type {\n",
       "        vertical-align: middle;\n",
       "    }\n",
       "\n",
       "    .dataframe tbody tr th {\n",
       "        vertical-align: top;\n",
       "    }\n",
       "\n",
       "    .dataframe thead th {\n",
       "        text-align: right;\n",
       "    }\n",
       "</style>\n",
       "<table border=\"1\" class=\"dataframe\">\n",
       "  <thead>\n",
       "    <tr style=\"text-align: right;\">\n",
       "      <th></th>\n",
       "      <th>quotedpost</th>\n",
       "      <th>quotedreply</th>\n",
       "      <th>label</th>\n",
       "      <th>post</th>\n",
       "      <th>reply</th>\n",
       "      <th>post_user</th>\n",
       "      <th>reply_user</th>\n",
       "      <th>start_offset</th>\n",
       "      <th>end_offset</th>\n",
       "      <th>reddit_post_id</th>\n",
       "      <th>reddit_reply_id</th>\n",
       "      <th>has_cond</th>\n",
       "      <th>post_len</th>\n",
       "      <th>reply_len</th>\n",
       "      <th>cleaned_post</th>\n",
       "      <th>cleaned_reply</th>\n",
       "    </tr>\n",
       "  </thead>\n",
       "  <tbody>\n",
       "    <tr>\n",
       "      <th>0</th>\n",
       "      <td>Please educate yoyrself before you bring your ...</td>\n",
       "      <td>Not condescending at all, jeez.</td>\n",
       "      <td>True</td>\n",
       "      <td>Well a guy is saying Barra, who has those grea...</td>\n",
       "      <td>&gt; Please educate yoyrself before you bring you...</td>\n",
       "      <td>StalinHimself</td>\n",
       "      <td>Kel_Casus</td>\n",
       "      <td>135</td>\n",
       "      <td>208</td>\n",
       "      <td>dbl4vl9</td>\n",
       "      <td>dblfraj</td>\n",
       "      <td>1</td>\n",
       "      <td>37</td>\n",
       "      <td>17</td>\n",
       "      <td>Well a guy is saying Barra, who has those grea...</td>\n",
       "      <td>Not condescending at all, jeez.</td>\n",
       "    </tr>\n",
       "    <tr>\n",
       "      <th>1</th>\n",
       "      <td>There might be some small piece that's incorrect</td>\n",
       "      <td>You said that. Not me. Not James-Cizuz. You sa...</td>\n",
       "      <td>True</td>\n",
       "      <td>&gt; I think you're the one who has a reading com...</td>\n",
       "      <td>&gt; theories are constantly growing and evolving...</td>\n",
       "      <td>kishi</td>\n",
       "      <td>jids</td>\n",
       "      <td>365</td>\n",
       "      <td>413</td>\n",
       "      <td>c2dtpq9</td>\n",
       "      <td>c2dtywp</td>\n",
       "      <td>1</td>\n",
       "      <td>314</td>\n",
       "      <td>230</td>\n",
       "      <td>Well you're a stupid poopy-head.\\n\\nSee, I don...</td>\n",
       "      <td>Why would theories self-correct if they were a...</td>\n",
       "    </tr>\n",
       "    <tr>\n",
       "      <th>2</th>\n",
       "      <td>If I try and force down a breakfast I start ga...</td>\n",
       "      <td>Yes!\\n\\nPeople were so condescending about it ...</td>\n",
       "      <td>False</td>\n",
       "      <td>For me it's like temporarily having the flu. T...</td>\n",
       "      <td>&gt; If I try and force down a breakfast I start ...</td>\n",
       "      <td>amphetaminesfailure</td>\n",
       "      <td>CowGiraffe</td>\n",
       "      <td>331</td>\n",
       "      <td>383</td>\n",
       "      <td>cuv97mf</td>\n",
       "      <td>cuvnb27</td>\n",
       "      <td>1</td>\n",
       "      <td>107</td>\n",
       "      <td>179</td>\n",
       "      <td>For me it's like temporarily having the flu. T...</td>\n",
       "      <td>Yes!\\n\\nPeople were so condescending about it ...</td>\n",
       "    </tr>\n",
       "  </tbody>\n",
       "</table>\n",
       "</div>"
      ],
      "text/plain": [
       "                                          quotedpost  \\\n",
       "0  Please educate yoyrself before you bring your ...   \n",
       "1   There might be some small piece that's incorrect   \n",
       "2  If I try and force down a breakfast I start ga...   \n",
       "\n",
       "                                         quotedreply  label  \\\n",
       "0                    Not condescending at all, jeez.   True   \n",
       "1  You said that. Not me. Not James-Cizuz. You sa...   True   \n",
       "2  Yes!\\n\\nPeople were so condescending about it ...  False   \n",
       "\n",
       "                                                post  \\\n",
       "0  Well a guy is saying Barra, who has those grea...   \n",
       "1  > I think you're the one who has a reading com...   \n",
       "2  For me it's like temporarily having the flu. T...   \n",
       "\n",
       "                                               reply            post_user  \\\n",
       "0  > Please educate yoyrself before you bring you...        StalinHimself   \n",
       "1  > theories are constantly growing and evolving...                kishi   \n",
       "2  > If I try and force down a breakfast I start ...  amphetaminesfailure   \n",
       "\n",
       "   reply_user  start_offset  end_offset reddit_post_id reddit_reply_id  \\\n",
       "0   Kel_Casus           135         208        dbl4vl9         dblfraj   \n",
       "1        jids           365         413        c2dtpq9         c2dtywp   \n",
       "2  CowGiraffe           331         383        cuv97mf         cuvnb27   \n",
       "\n",
       "   has_cond  post_len  reply_len  \\\n",
       "0         1        37         17   \n",
       "1         1       314        230   \n",
       "2         1       107        179   \n",
       "\n",
       "                                        cleaned_post  \\\n",
       "0  Well a guy is saying Barra, who has those grea...   \n",
       "1  Well you're a stupid poopy-head.\\n\\nSee, I don...   \n",
       "2  For me it's like temporarily having the flu. T...   \n",
       "\n",
       "                                       cleaned_reply  \n",
       "0                    Not condescending at all, jeez.  \n",
       "1  Why would theories self-correct if they were a...  \n",
       "2  Yes!\\n\\nPeople were so condescending about it ...  "
      ]
     },
     "execution_count": 32,
     "metadata": {},
     "output_type": "execute_result"
    }
   ],
   "source": [
    "cond_df.head(3)"
   ]
  },
  {
   "cell_type": "code",
   "execution_count": 33,
   "metadata": {},
   "outputs": [],
   "source": [
    "# split into train and validation data\n",
    "X_train, X_val, y_train, y_val = train_test_split(cond_df[[\"cleaned_post\", \"cleaned_reply\"]],\n",
    "                                                  cond_df[\"label\"])"
   ]
  },
  {
   "cell_type": "code",
   "execution_count": 35,
   "metadata": {},
   "outputs": [],
   "source": [
    "# Pipeline classes need to implement fit and transform\n",
    "class BaseClass:\n",
    "    def __init__(self):\n",
    "        pass\n",
    "    # class must implement fit and xform\n",
    "    def fit(self, X, y=None):\n",
    "        return self\n",
    "    def transform(self, X, y=None):\n",
    "        return self\n",
    "\n",
    "# first, it needs to lemmatize the word. I want to put this in the pipeline for convenience so\n",
    "# wrap it in a class. I figured I might as well make it have some useful features since I might use\n",
    "# it in the future.\n",
    "class StemOrLemmatizer(BaseClass):\n",
    "    \n",
    "    def __init__(self, cols, choice = 'stem'):\n",
    "        \n",
    "        # if the user passes in only ONE column, just return a series not a DF\n",
    "        # If you return a DF then TFIDF vectorizer gets angry, which is why I put this step in\n",
    "        self._return_df = True\n",
    "        if isinstance(cols, str):\n",
    "            cols = [cols]\n",
    "        if len(cols) == 1:\n",
    "            self._return_df = False\n",
    "        \n",
    "        # It will only lemmatize the columns that you specify here\n",
    "        self.cols_to_encode = cols\n",
    "        \n",
    "        if choice not in [\"stem\", \"lemma\"]:\n",
    "            raise Exception(\"choice parameter can only be 'stem' or 'lemma'\")\n",
    "        self.choice = choice\n",
    "        \n",
    "    def transform(self, X, y=None):\n",
    "        \n",
    "        # create list of lists\n",
    "        # the outer list is basically each column\n",
    "        # the inner list is the entries in each column\n",
    "        list_of_lists = []\n",
    "        \n",
    "        if self.choice == \"stem\":\n",
    "            lemma = PorterStemmer()\n",
    "        else:\n",
    "            lemma = WordNetLemmatizer()\n",
    "        \n",
    "        #loop through all columns\n",
    "        for i, col_name in enumerate(self.cols_to_encode):\n",
    "            # add a new list (i.e. a new column)\n",
    "            list_of_lists.append([])\n",
    "            \n",
    "            # loop through each column and append to list\n",
    "            # not the most computationally efficient but w/e\n",
    "            for sentence in X[col_name]:\n",
    "                # loop through each word and lemmatize/stem it\n",
    "                split_words = sentence.split()\n",
    "                \n",
    "                if self.choice == \"stem\":\n",
    "                    split_words = [lemma.stem(s) for s in split_words]\n",
    "                else:\n",
    "                    split_words = [lemma.lemmatize(s) for s in split_words]\n",
    "                    \n",
    "                new_text = \" \".join(split_words)\n",
    "                \n",
    "                # save this to the list\n",
    "                list_of_lists[i].append(new_text)\n",
    "                \n",
    "        # if you only have one column, it should return a series (not DF)\n",
    "        # this is to allow it to pass directly into TFIDF without causing errors\n",
    "        if self._return_df == False:\n",
    "            return pd.Series(list_of_lists[0])\n",
    "        \n",
    "        # well turns out my list was the wrong way, so just transpose it\n",
    "        return pd.DataFrame(list_of_lists).transpose()\n",
    "\n",
    "# and a class that dense-s it after vectorizing\n",
    "class ToDense(BaseClass):\n",
    "    def transform(self, data):\n",
    "        return data.todense()"
   ]
  },
  {
   "cell_type": "code",
   "execution_count": 36,
   "metadata": {},
   "outputs": [],
   "source": [
    "# now make a pipeline\n",
    "basic_steps = [(\"stem\", StemOrLemmatizer(cols = [\"cleaned_post\"])),\n",
    "               (\"tfidf\", TfidfVectorizer(stop_words = ENGLISH_STOP_WORDS)),\n",
    "               (\"dense\", ToDense()),\n",
    "               (\"nbayes\", MultinomialNB())]\n",
    "\n",
    "basic_model = Pipeline(steps = basic_steps)"
   ]
  },
  {
   "cell_type": "code",
   "execution_count": 37,
   "metadata": {},
   "outputs": [
    {
     "data": {
      "text/plain": [
       "Pipeline(steps=[('stem',\n",
       "                 <__main__.StemOrLemmatizer object at 0x000002CE5E867DF0>),\n",
       "                ('tfidf',\n",
       "                 TfidfVectorizer(stop_words=frozenset({'a', 'about', 'above',\n",
       "                                                       'across', 'after',\n",
       "                                                       'afterwards', 'again',\n",
       "                                                       'against', 'all',\n",
       "                                                       'almost', 'alone',\n",
       "                                                       'along', 'already',\n",
       "                                                       'also', 'although',\n",
       "                                                       'always', 'am', 'among',\n",
       "                                                       'amongst', 'amoungst',\n",
       "                                                       'amount', 'an', 'and',\n",
       "                                                       'another', 'any',\n",
       "                                                       'anyhow', 'anyone',\n",
       "                                                       'anything', 'anyway',\n",
       "                                                       'anywhere', ...}))),\n",
       "                ('dense', <__main__.ToDense object at 0x000002CE5E867F70>),\n",
       "                ('nbayes', MultinomialNB())])"
      ]
     },
     "execution_count": 37,
     "metadata": {},
     "output_type": "execute_result"
    }
   ],
   "source": [
    "basic_model.fit(X_train, y_train)"
   ]
  },
  {
   "cell_type": "code",
   "execution_count": 38,
   "metadata": {},
   "outputs": [],
   "source": [
    "# get predictions\n",
    "val_predictions = basic_model.predict(X_val)"
   ]
  },
  {
   "cell_type": "code",
   "execution_count": 39,
   "metadata": {},
   "outputs": [],
   "source": [
    "# conveniently there is this function\n",
    "# so I don't have to figure out the row and col names\n",
    "from sklearn.metrics import plot_confusion_matrix, accuracy_score"
   ]
  },
  {
   "cell_type": "code",
   "execution_count": 40,
   "metadata": {},
   "outputs": [
    {
     "data": {
      "text/plain": [
       "Text(0.5, 1.0, 'Confusion Matrix: TFIDF + Naive Bayes (Train Data)')"
      ]
     },
     "execution_count": 40,
     "metadata": {},
     "output_type": "execute_result"
    },
    {
     "data": {
      "text/plain": [
       "<Figure size 504x504 with 0 Axes>"
      ]
     },
     "metadata": {},
     "output_type": "display_data"
    },
    {
     "data": {
      "image/png": "[encoded data removed]",
      "text/plain": [
       "<Figure size 432x288 with 2 Axes>"
      ]
     },
     "metadata": {
      "needs_background": "light"
     },
     "output_type": "display_data"
    }
   ],
   "source": [
    "# plot the training data\n",
    "plt.figure(figsize=(7,7))\n",
    "plot_confusion_matrix(basic_model, X_train, y_train)\n",
    "plt.title(\"Confusion Matrix: TFIDF + Naive Bayes (Train Data)\")"
   ]
  },
  {
   "cell_type": "code",
   "execution_count": 41,
   "metadata": {},
   "outputs": [
    {
     "data": {
      "text/plain": [
       "0.9019457245263697"
      ]
     },
     "execution_count": 41,
     "metadata": {},
     "output_type": "execute_result"
    }
   ],
   "source": [
    "accuracy_score(y_train, basic_model.predict(X_train))"
   ]
  },
  {
   "cell_type": "code",
   "execution_count": 42,
   "metadata": {},
   "outputs": [
    {
     "data": {
      "text/plain": [
       "Text(0.5, 1.0, 'Confusion Matrix: TFIDF + Naive Bayes (Validation Data)')"
      ]
     },
     "execution_count": 42,
     "metadata": {},
     "output_type": "execute_result"
    },
    {
     "data": {
      "text/plain": [
       "<Figure size 504x504 with 0 Axes>"
      ]
     },
     "metadata": {},
     "output_type": "display_data"
    },
    {
     "data": {
      "image/png": "[encoded data removed]",
      "text/plain": [
       "<Figure size 432x288 with 2 Axes>"
      ]
     },
     "metadata": {
      "needs_background": "light"
     },
     "output_type": "display_data"
    }
   ],
   "source": [
    "plt.figure(figsize=(7,7))\n",
    "plot_confusion_matrix(basic_model, X_val, y_val)\n",
    "plt.title(\"Confusion Matrix: TFIDF + Naive Bayes (Validation Data)\")"
   ]
  },
  {
   "cell_type": "code",
   "execution_count": 43,
   "metadata": {},
   "outputs": [
    {
     "data": {
      "text/plain": [
       "0.5360983102918587"
      ]
     },
     "execution_count": 43,
     "metadata": {},
     "output_type": "execute_result"
    }
   ],
   "source": [
    "accuracy_score(y_val, val_predictions)"
   ]
  },
  {
   "cell_type": "markdown",
   "metadata": {},
   "source": [
    "It is obviously overfitting way too much so we should find better parameters using grid search. Although I'm not really sure if this counts as a basic model at this point."
   ]
  },
  {
   "cell_type": "code",
   "execution_count": 44,
   "metadata": {},
   "outputs": [],
   "source": [
    "params = {\"tfidf__min_df\" : [2, 3, 4],\n",
    "          \"tfidf__max_df\" : [0.7, 0.8, 0.9]}\n",
    "\n",
    "gridsearch = GridSearchCV(basic_model, param_grid = params, n_jobs = -1, cv = 5, verbose = 1)"
   ]
  },
  {
   "cell_type": "code",
   "execution_count": 45,
   "metadata": {
    "scrolled": true
   },
   "outputs": [
    {
     "name": "stdout",
     "output_type": "stream",
     "text": [
      "Fitting 5 folds for each of 9 candidates, totalling 45 fits\n"
     ]
    },
    {
     "name": "stderr",
     "output_type": "stream",
     "text": [
      "[Parallel(n_jobs=-1)]: Using backend LokyBackend with 12 concurrent workers.\n",
      "[Parallel(n_jobs=-1)]: Done  45 out of  45 | elapsed:  1.2min finished\n"
     ]
    },
    {
     "data": {
      "text/plain": [
       "GridSearchCV(cv=5,\n",
       "             estimator=Pipeline(steps=[('stem',\n",
       "                                        <__main__.StemOrLemmatizer object at 0x000002CE5E867DF0>),\n",
       "                                       ('tfidf',\n",
       "                                        TfidfVectorizer(stop_words=frozenset({'a',\n",
       "                                                                              'about',\n",
       "                                                                              'above',\n",
       "                                                                              'across',\n",
       "                                                                              'after',\n",
       "                                                                              'afterwards',\n",
       "                                                                              'again',\n",
       "                                                                              'against',\n",
       "                                                                              'all',\n",
       "                                                                              'almost',\n",
       "                                                                              'alone',\n",
       "                                                                              'along',\n",
       "                                                                              'already',\n",
       "                                                                              'also',\n",
       "                                                                              'although',\n",
       "                                                                              'always',\n",
       "                                                                              'am',\n",
       "                                                                              'among',\n",
       "                                                                              'amongst',\n",
       "                                                                              'amoungst',\n",
       "                                                                              'amount',\n",
       "                                                                              'an',\n",
       "                                                                              'and',\n",
       "                                                                              'another',\n",
       "                                                                              'any',\n",
       "                                                                              'anyhow',\n",
       "                                                                              'anyone',\n",
       "                                                                              'anything',\n",
       "                                                                              'anyway',\n",
       "                                                                              'anywhere', ...}))),\n",
       "                                       ('dense',\n",
       "                                        <__main__.ToDense object at 0x000002CE5E867F70>),\n",
       "                                       ('nbayes', MultinomialNB())]),\n",
       "             n_jobs=-1,\n",
       "             param_grid={'tfidf__max_df': [0.7, 0.8, 0.9],\n",
       "                         'tfidf__min_df': [2, 3, 4]},\n",
       "             verbose=1)"
      ]
     },
     "execution_count": 45,
     "metadata": {},
     "output_type": "execute_result"
    }
   ],
   "source": [
    "gridsearch.fit(X_train, y_train)"
   ]
  },
  {
   "cell_type": "code",
   "execution_count": 46,
   "metadata": {},
   "outputs": [
    {
     "data": {
      "text/plain": [
       "0.5773187368807123"
      ]
     },
     "execution_count": 46,
     "metadata": {},
     "output_type": "execute_result"
    }
   ],
   "source": [
    "gridsearch.best_score_"
   ]
  },
  {
   "cell_type": "code",
   "execution_count": 47,
   "metadata": {},
   "outputs": [
    {
     "data": {
      "text/plain": [
       "Pipeline(steps=[('stem',\n",
       "                 <__main__.StemOrLemmatizer object at 0x000002CE000BD430>),\n",
       "                ('tfidf',\n",
       "                 TfidfVectorizer(max_df=0.7, min_df=4,\n",
       "                                 stop_words=frozenset({'a', 'about', 'above',\n",
       "                                                       'across', 'after',\n",
       "                                                       'afterwards', 'again',\n",
       "                                                       'against', 'all',\n",
       "                                                       'almost', 'alone',\n",
       "                                                       'along', 'already',\n",
       "                                                       'also', 'although',\n",
       "                                                       'always', 'am', 'among',\n",
       "                                                       'amongst', 'amoungst',\n",
       "                                                       'amount', 'an', 'and',\n",
       "                                                       'another', 'any',\n",
       "                                                       'anyhow', 'anyone',\n",
       "                                                       'anything', 'anyway',\n",
       "                                                       'anywhere', ...}))),\n",
       "                ('dense', <__main__.ToDense object at 0x000002CE000BD040>),\n",
       "                ('nbayes', MultinomialNB())])"
      ]
     },
     "execution_count": 47,
     "metadata": {},
     "output_type": "execute_result"
    }
   ],
   "source": [
    "gridsearch.best_estimator_"
   ]
  },
  {
   "cell_type": "markdown",
   "metadata": {},
   "source": [
    "As expected, it's not very good. Next, we can try to add in the 'reply' column too. Since we saw earlier that the word 'condescending' in the reply is connected with the post being condescending, this most likely helps.\n",
    "\n",
    "I will vectorize the post and the reply, then merge them together and use N. Bayes."
   ]
  },
  {
   "cell_type": "code",
   "execution_count": 48,
   "metadata": {},
   "outputs": [],
   "source": [
    "# use the same hyperparams from above\n",
    "\n",
    "# Pipeline for the post column\n",
    "steps_post = [(\"stem\", StemOrLemmatizer(cols = [\"cleaned_post\"])),\n",
    "               (\"tfidf\", TfidfVectorizer(stop_words = ENGLISH_STOP_WORDS,\n",
    "                                         min_df = 4,\n",
    "                                         max_df = 0.7)),\n",
    "               (\"dense\", ToDense())]\n",
    "\n",
    "pipeline_post = Pipeline(steps_post)\n",
    "\n",
    "# Pipeline for the reply column\n",
    "steps_reply = [(\"stem\", StemOrLemmatizer(cols = [\"cleaned_reply\"])),\n",
    "               (\"tfidf\", TfidfVectorizer(stop_words = ENGLISH_STOP_WORDS,\n",
    "                                         min_df = 4,\n",
    "                                         max_df = 0.7)),\n",
    "               (\"dense\", ToDense())]\n",
    "\n",
    "pipeline_reply = Pipeline(steps_reply)\n",
    "\n",
    "# combine the post and reply\n",
    "post_and_reply = FeatureUnion([(\"post\", pipeline_post), (\"reply\", pipeline_reply)])\n",
    "\n",
    "# add in a n. bayes to the end\n",
    "combined_basic_model = Pipeline([(\"preprocess\", post_and_reply), (\"nbayes\", MultinomialNB())])"
   ]
  },
  {
   "cell_type": "code",
   "execution_count": 49,
   "metadata": {
    "scrolled": true
   },
   "outputs": [
    {
     "data": {
      "text/plain": [
       "Pipeline(steps=[('preprocess',\n",
       "                 FeatureUnion(transformer_list=[('post',\n",
       "                                                 Pipeline(steps=[('stem',\n",
       "                                                                  <__main__.StemOrLemmatizer object at 0x000002CE00009700>),\n",
       "                                                                 ('tfidf',\n",
       "                                                                  TfidfVectorizer(max_df=0.7,\n",
       "                                                                                  min_df=4,\n",
       "                                                                                  stop_words=frozenset({'a',\n",
       "                                                                                                        'about',\n",
       "                                                                                                        'above',\n",
       "                                                                                                        'across',\n",
       "                                                                                                        'after',\n",
       "                                                                                                        'afterwards',\n",
       "                                                                                                        'again',\n",
       "                                                                                                        'against',\n",
       "                                                                                                        'all',\n",
       "                                                                                                        'almost',\n",
       "                                                                                                        'alone',\n",
       "                                                                                                        'along',\n",
       "                                                                                                        'already',\n",
       "                                                                                                        'also',\n",
       "                                                                                                        'although',\n",
       "                                                                                                        'always'...\n",
       "                                                                                  stop_words=frozenset({'a',\n",
       "                                                                                                        'about',\n",
       "                                                                                                        'above',\n",
       "                                                                                                        'across',\n",
       "                                                                                                        'after',\n",
       "                                                                                                        'afterwards',\n",
       "                                                                                                        'again',\n",
       "                                                                                                        'against',\n",
       "                                                                                                        'all',\n",
       "                                                                                                        'almost',\n",
       "                                                                                                        'alone',\n",
       "                                                                                                        'along',\n",
       "                                                                                                        'already',\n",
       "                                                                                                        'also',\n",
       "                                                                                                        'although',\n",
       "                                                                                                        'always',\n",
       "                                                                                                        'am',\n",
       "                                                                                                        'among',\n",
       "                                                                                                        'amongst',\n",
       "                                                                                                        'amoungst',\n",
       "                                                                                                        'amount',\n",
       "                                                                                                        'an',\n",
       "                                                                                                        'and',\n",
       "                                                                                                        'another',\n",
       "                                                                                                        'any',\n",
       "                                                                                                        'anyhow',\n",
       "                                                                                                        'anyone',\n",
       "                                                                                                        'anything',\n",
       "                                                                                                        'anyway',\n",
       "                                                                                                        'anywhere', ...}))),\n",
       "                                                                 ('dense',\n",
       "                                                                  <__main__.ToDense object at 0x000002CE00009EE0>)]))])),\n",
       "                ('nbayes', MultinomialNB())])"
      ]
     },
     "execution_count": 49,
     "metadata": {},
     "output_type": "execute_result"
    }
   ],
   "source": [
    "combined_basic_model.fit(X_train, y_train)"
   ]
  },
  {
   "cell_type": "code",
   "execution_count": 50,
   "metadata": {
    "scrolled": true
   },
   "outputs": [
    {
     "name": "stdout",
     "output_type": "stream",
     "text": [
      "test accuracy\n",
      "0.9070660522273426\n",
      "validation accuracy\n",
      "0.6328725038402457\n"
     ]
    }
   ],
   "source": [
    "# get accuracy\n",
    "print(\"test accuracy\")\n",
    "print(accuracy_score(y_train, combined_basic_model.predict(X_train)))\n",
    "print(\"validation accuracy\")\n",
    "print(accuracy_score(y_val, combined_basic_model.predict(X_val)))"
   ]
  },
  {
   "cell_type": "markdown",
   "metadata": {},
   "source": [
    "We can see it's better, but it's overfitting (need to run grid search to get better hyperparams). Maybe I should try a different model, but that should be done in a different notebook. This was just to see what a baseline model will look like.\n",
    "\n",
    "Save the cleaned data to be used later on."
   ]
  },
  {
   "cell_type": "code",
   "execution_count": 202,
   "metadata": {},
   "outputs": [],
   "source": [
    "# Uncomment to save\n",
    "# cond_df.to_csv(\"./cond_data/added_features/balanced_train_more_features.csv\")"
   ]
  }
 ],
 "metadata": {
  "kernelspec": {
   "display_name": "Python 3",
   "language": "python",
   "name": "python3"
  },
  "language_info": {
   "codemirror_mode": {
    "name": "ipython",
    "version": 3
   },
   "file_extension": ".py",
   "mimetype": "text/x-python",
   "name": "python",
   "nbconvert_exporter": "python",
   "pygments_lexer": "ipython3",
   "version": "3.8.3"
  }
 },
 "nbformat": 4,
 "nbformat_minor": 4
}
